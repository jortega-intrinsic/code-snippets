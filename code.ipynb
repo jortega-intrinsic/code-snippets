{
 "cells": [
  {
   "cell_type": "code",
   "execution_count": null,
   "metadata": {},
   "outputs": [],
   "source": [
    "def get_total(numbers):\n",
    "    total = 0\n",
    "    for number in numbers:\n",
    "        total += number\n",
    "    return total\n",
    "\n",
    "def get_average(numbers):\n",
    "    total = get_total(numbers)\n",
    "    count = len(numbers)\n",
    "    if count == 0:\n",
    "        raise ValueError(\"Cannot compute average, list is empty\")\n",
    "    return total / count\n",
    "\n",
    "def get_max(numbers):\n",
    "    max_number = numbers[0]\n",
    "    for number in numbers:\n",
    "        if number > max_number:\n",
    "            max_number = number\n",
    "    return max_number\n",
    "\n",
    "def get_min(numbers):\n",
    "    min_number = numbers[0]\n",
    "    for number in numbers:\n",
    "        if number < min_number:\n",
    "            min_number = number\n",
    "    return min_number"
   ]
  }
 ],
 "metadata": {
  "language_info": {
   "name": "python"
  }
 },
 "nbformat": 4,
 "nbformat_minor": 2
}
